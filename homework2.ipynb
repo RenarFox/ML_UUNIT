{
  "nbformat": 4,
  "nbformat_minor": 0,
  "metadata": {
    "colab": {
      "provenance": [],
      "include_colab_link": true
    },
    "kernelspec": {
      "name": "python3",
      "display_name": "Python 3"
    },
    "language_info": {
      "name": "python"
    }
  },
  "cells": [
    {
      "cell_type": "markdown",
      "metadata": {
        "id": "view-in-github",
        "colab_type": "text"
      },
      "source": [
        "<a href=\"https://colab.research.google.com/github/RenarFox/ML_UUNIT/blob/main/homework2.ipynb\" target=\"_parent\"><img src=\"https://colab.research.google.com/assets/colab-badge.svg\" alt=\"Open In Colab\"/></a>"
      ]
    },
    {
      "cell_type": "markdown",
      "source": [
        "В этом домашнем задании вам предстоит с помощью Pandas ответить на несколько вопросов об этом [датасете](https://archive.ics.uci.edu/ml/datasets/Adult). Все ответы вам предстоит отправить в этой [форме](https://forms.gle/qfVth9BygS4AVJZ47)\n",
        "\n",
        "Чтобы начать надо сохранить этот ноутбук себе на диск (File - Save a copy in Drive) или скачать (File - Download), если вы делаете у себя локально.\n",
        "\n",
        "Скачать нужный датасет можно [тут](https://disk.yandex.ru/d/6WlIXR-y_PObLg)\n",
        "\n",
        "Эта домашняя работа легкая и покрывает лишь некоторую базу, очень советую пройтись по доп.материалам и посмотреть на различные крутые штуки, которые может делать Pandas, Matplotlib или Seaborn. Особенно если вы хотите заниматься анализом данных намного серьезнее.\n",
        "\n",
        "Мягкий дедлайн: 31 октября 23:59 \\\n",
        "Жесткий дедлайн: 7 ноября 23:59"
      ],
      "metadata": {
        "id": "toWVCd21dfOy"
      }
    },
    {
      "cell_type": "markdown",
      "source": [],
      "metadata": {
        "id": "boh3Tbu51NR1"
      }
    },
    {
      "cell_type": "code",
      "execution_count": null,
      "metadata": {
        "id": "pNpfcbFddUOU"
      },
      "outputs": [],
      "source": [
        "import numpy as np\n",
        "import pandas as pd\n",
        "import matplotlib.pyplot as plt\n",
        "import seaborn as sns\n",
        "\n",
        "plt.rcParams[\"figure.figsize\"] = (18, 10)"
      ]
    },
    {
      "cell_type": "markdown",
      "source": [
        "**Задание 0: Прочитайте скачанный датасет и выведите его**"
      ],
      "metadata": {
        "id": "gW09gRt_ePVM"
      }
    },
    {
      "cell_type": "code",
      "source": [
        "# Write code here\n",
        "df = pd.read_csv(\"adult_data.csv\")\n",
        "print(df.head)"
      ],
      "metadata": {
        "id": "HhYExiiCeOcO",
        "colab": {
          "base_uri": "https://localhost:8080/"
        },
        "outputId": "129c894f-bb41-4996-80fe-4f64170a0343"
      },
      "execution_count": null,
      "outputs": [
        {
          "output_type": "stream",
          "name": "stdout",
          "text": [
            "<bound method NDFrame.head of        age         workclass  fnlwgt   education  education-num  \\\n",
            "0       39         State-gov   77516   Bachelors             13   \n",
            "1       50  Self-emp-not-inc   83311   Bachelors             13   \n",
            "2       38           Private  215646     HS-grad              9   \n",
            "3       53           Private  234721        11th              7   \n",
            "4       28           Private  338409   Bachelors             13   \n",
            "...    ...               ...     ...         ...            ...   \n",
            "32556   27           Private  257302  Assoc-acdm             12   \n",
            "32557   40           Private  154374     HS-grad              9   \n",
            "32558   58           Private  151910     HS-grad              9   \n",
            "32559   22           Private  201490     HS-grad              9   \n",
            "32560   52      Self-emp-inc  287927     HS-grad              9   \n",
            "\n",
            "           marital-status         occupation   relationship   race     sex  \\\n",
            "0           Never-married       Adm-clerical  Not-in-family  White    Male   \n",
            "1      Married-civ-spouse    Exec-managerial        Husband  White    Male   \n",
            "2                Divorced  Handlers-cleaners  Not-in-family  White    Male   \n",
            "3      Married-civ-spouse  Handlers-cleaners        Husband  Black    Male   \n",
            "4      Married-civ-spouse     Prof-specialty           Wife  Black  Female   \n",
            "...                   ...                ...            ...    ...     ...   \n",
            "32556  Married-civ-spouse       Tech-support           Wife  White  Female   \n",
            "32557  Married-civ-spouse  Machine-op-inspct        Husband  White    Male   \n",
            "32558             Widowed       Adm-clerical      Unmarried  White  Female   \n",
            "32559       Never-married       Adm-clerical      Own-child  White    Male   \n",
            "32560  Married-civ-spouse    Exec-managerial           Wife  White  Female   \n",
            "\n",
            "       capital-gain  capital-loss  hours-per-week native-country salary  \n",
            "0              2174             0              40  United-States  <=50K  \n",
            "1                 0             0              13  United-States  <=50K  \n",
            "2                 0             0              40  United-States  <=50K  \n",
            "3                 0             0              40  United-States  <=50K  \n",
            "4                 0             0              40           Cuba  <=50K  \n",
            "...             ...           ...             ...            ...    ...  \n",
            "32556             0             0              38  United-States  <=50K  \n",
            "32557             0             0              40  United-States   >50K  \n",
            "32558             0             0              40  United-States  <=50K  \n",
            "32559             0             0              20  United-States  <=50K  \n",
            "32560         15024             0              40  United-States   >50K  \n",
            "\n",
            "[32561 rows x 15 columns]>\n"
          ]
        }
      ]
    },
    {
      "cell_type": "markdown",
      "source": [
        "**Задание 1: Найдите количество мужчин и количество женщин в датасете**"
      ],
      "metadata": {
        "id": "JVQGbUBselow"
      }
    },
    {
      "cell_type": "code",
      "source": [
        "# Write code here\n",
        "df['sex'].value_counts()"
      ],
      "metadata": {
        "id": "uAv60WaKelCu",
        "colab": {
          "base_uri": "https://localhost:8080/",
          "height": 178
        },
        "outputId": "9ee8ad59-49a2-48f3-9c0e-a500c3b33afa"
      },
      "execution_count": null,
      "outputs": [
        {
          "output_type": "execute_result",
          "data": {
            "text/plain": [
              "sex\n",
              "Male      21790\n",
              "Female    10771\n",
              "Name: count, dtype: int64"
            ],
            "text/html": [
              "<div>\n",
              "<style scoped>\n",
              "    .dataframe tbody tr th:only-of-type {\n",
              "        vertical-align: middle;\n",
              "    }\n",
              "\n",
              "    .dataframe tbody tr th {\n",
              "        vertical-align: top;\n",
              "    }\n",
              "\n",
              "    .dataframe thead th {\n",
              "        text-align: right;\n",
              "    }\n",
              "</style>\n",
              "<table border=\"1\" class=\"dataframe\">\n",
              "  <thead>\n",
              "    <tr style=\"text-align: right;\">\n",
              "      <th></th>\n",
              "      <th>count</th>\n",
              "    </tr>\n",
              "    <tr>\n",
              "      <th>sex</th>\n",
              "      <th></th>\n",
              "    </tr>\n",
              "  </thead>\n",
              "  <tbody>\n",
              "    <tr>\n",
              "      <th>Male</th>\n",
              "      <td>21790</td>\n",
              "    </tr>\n",
              "    <tr>\n",
              "      <th>Female</th>\n",
              "      <td>10771</td>\n",
              "    </tr>\n",
              "  </tbody>\n",
              "</table>\n",
              "</div><br><label><b>dtype:</b> int64</label>"
            ]
          },
          "metadata": {},
          "execution_count": 4
        }
      ]
    },
    {
      "cell_type": "markdown",
      "source": [
        "**Задание 2: Найдите средний возраст мужчин**"
      ],
      "metadata": {
        "id": "Y06yOKbjeyLW"
      }
    },
    {
      "cell_type": "code",
      "source": [
        "# Write code here\n",
        "df.loc[df['sex'] == 'Male', 'age'].mean()"
      ],
      "metadata": {
        "id": "1e_Iem6_e4QO",
        "colab": {
          "base_uri": "https://localhost:8080/"
        },
        "outputId": "a097f6a6-cbb5-44b3-8a4d-f971a303a72d"
      },
      "execution_count": null,
      "outputs": [
        {
          "output_type": "execute_result",
          "data": {
            "text/plain": [
              "np.float64(39.43354749885268)"
            ]
          },
          "metadata": {},
          "execution_count": 5
        }
      ]
    },
    {
      "cell_type": "markdown",
      "source": [
        "**Задание 3: Найдите процент людей, которые являются гражданами Тайваня (Taiwan)**"
      ],
      "metadata": {
        "id": "9_cZ8oZue6Av"
      }
    },
    {
      "cell_type": "code",
      "source": [
        "# Write code here\n",
        "percent = (df['native-country']== 'Taiwan').mean() *100\n",
        "print(f\"Процент граждан Тайваня: {percent: .2f}%\")"
      ],
      "metadata": {
        "id": "pSmTBDHyfJ2n",
        "colab": {
          "base_uri": "https://localhost:8080/"
        },
        "outputId": "15a585d5-090a-4ad8-edf4-da16d6d290c0"
      },
      "execution_count": null,
      "outputs": [
        {
          "output_type": "stream",
          "name": "stdout",
          "text": [
            "Процент граждан Тайваня:  0.16%\n"
          ]
        }
      ]
    },
    {
      "cell_type": "markdown",
      "source": [
        "**Задание 4: Найдите среднее значение возраста для людей, которые зарабатывают >50K**"
      ],
      "metadata": {
        "id": "5iEMiKIEfLiE"
      }
    },
    {
      "cell_type": "code",
      "source": [
        "# Write code here\n",
        "df.loc[df['salary']=='>50K']\n",
        "print(df['age'].mean())"
      ],
      "metadata": {
        "id": "mNNWysqbfZRX",
        "colab": {
          "base_uri": "https://localhost:8080/"
        },
        "outputId": "babf3e99-6db6-4bd5-fc6e-f602ef9d0de7"
      },
      "execution_count": null,
      "outputs": [
        {
          "output_type": "stream",
          "name": "stdout",
          "text": [
            "38.58164675532078\n"
          ]
        }
      ]
    },
    {
      "cell_type": "markdown",
      "source": [
        "**Задание 5: Найдите стандартное отклонение возраста для людей, которые зарабатывают >50K**"
      ],
      "metadata": {
        "id": "VIm2T6VjfZ_n"
      }
    },
    {
      "cell_type": "code",
      "source": [
        "# Write code here\n",
        "df.loc[df['salary']=='>50K']\n",
        "print(df['age'].std())"
      ],
      "metadata": {
        "id": "mYZ_ZNzHfgC2",
        "colab": {
          "base_uri": "https://localhost:8080/"
        },
        "outputId": "0a01f25a-d082-439c-e990-4f438c4f4931"
      },
      "execution_count": null,
      "outputs": [
        {
          "output_type": "stream",
          "name": "stdout",
          "text": [
            "13.640432553581146\n"
          ]
        }
      ]
    },
    {
      "cell_type": "markdown",
      "source": [
        "**Задание 6: Проверьте, правда ли что все люди, которые зарабытвают >50K, имеют образование Bachelors+**"
      ],
      "metadata": {
        "id": "QfKb8L3Hfg5W"
      }
    },
    {
      "cell_type": "code",
      "source": [
        "# Write code here\n",
        "all_above_bachelors = ((df['salary'] == '>50K') & (~df['education'].isin(['Bachelors+', 'HS-grade', '11th']))).sum() == 0\n",
        "print(all_above_bachelors)\n"
      ],
      "metadata": {
        "id": "VG-mO_Jxf6PD",
        "colab": {
          "base_uri": "https://localhost:8080/"
        },
        "outputId": "2d7ff300-8c34-43d8-d34f-fa651d4d23f7"
      },
      "execution_count": null,
      "outputs": [
        {
          "output_type": "stream",
          "name": "stdout",
          "text": [
            "False\n"
          ]
        }
      ]
    },
    {
      "cell_type": "markdown",
      "source": [
        "**Задание 7: Сколько человек, работающих 40 часов и являющихся гражданами США (United-States), зарабатывают <=50K**"
      ],
      "metadata": {
        "id": "YNy1oplUgury"
      }
    },
    {
      "cell_type": "code",
      "source": [
        "# Write code here\n",
        "wu4 = ((df['native-country']=='United-States') & (df['hours-per-week'] == '40') & (df['salary']=='<=50K')).value_counts()\n",
        "print(wu4)"
      ],
      "metadata": {
        "id": "silJuRj4glAH",
        "colab": {
          "base_uri": "https://localhost:8080/"
        },
        "outputId": "24129799-8b62-4174-eac9-1acb9a324704"
      },
      "execution_count": null,
      "outputs": [
        {
          "output_type": "stream",
          "name": "stdout",
          "text": [
            "False    32561\n",
            "Name: count, dtype: int64\n"
          ]
        }
      ]
    },
    {
      "cell_type": "markdown",
      "source": [
        "**Задание 8: Теперь чуть сложнее. Давайте найдем максимальное количество часов в неделю (hours-per-week), а потом посмотрим, сколько человек работают столько времени в неделю и зарабатывают <=50K**"
      ],
      "metadata": {
        "id": "nmZyuqFSoRvG"
      }
    },
    {
      "cell_type": "code",
      "source": [
        "# Write code here\n",
        "mh = df['hours-per-week'].max()\n",
        "print(mh)\n",
        "pw = ((df['salary'] == '<=50K')&mh).value_counts()\n",
        "print(pw)"
      ],
      "metadata": {
        "id": "snfyhQwHokfK",
        "colab": {
          "base_uri": "https://localhost:8080/"
        },
        "outputId": "d6dadd10-3840-423f-8b99-a623abc6c5ce"
      },
      "execution_count": null,
      "outputs": [
        {
          "output_type": "stream",
          "name": "stdout",
          "text": [
            "99\n",
            "salary\n",
            "True     24720\n",
            "False     7841\n",
            "Name: count, dtype: int64\n"
          ]
        }
      ]
    },
    {
      "cell_type": "markdown",
      "source": [
        "**Задание 9: В этом задании вам предстоит построить ваш первый график. Ответьте на вопрос: людей с каким образованием больше всего представленно в датасете? \\\n",
        "P.S Использовать можно matplotlib, seaborn, plotly**"
      ],
      "metadata": {
        "id": "uT8jJ3b5ikjn"
      }
    },
    {
      "cell_type": "code",
      "source": [
        "# Write code here\n",
        "df['education'].value_counts().plot(kind='bar', figsize=(10,5))\n",
        "plt.title('Распределение по образованию')\n",
        "plt.xlabel('Уровень образования')\n",
        "plt.ylabel('Кол-во людей')\n",
        "plt.show()"
      ],
      "metadata": {
        "id": "RugU6jsNjYao",
        "colab": {
          "base_uri": "https://localhost:8080/",
          "height": 567
        },
        "outputId": "560d2861-1932-49c1-f55b-4c423d1eca48"
      },
      "execution_count": null,
      "outputs": [
        {
          "output_type": "display_data",
          "data": {
            "text/plain": [
              "<Figure size 1000x500 with 1 Axes>"
            ],
            "image/png": "[encoded data removed]"
          },
          "metadata": {}
        }
      ]
    },
    {
      "cell_type": "markdown",
      "source": [
        "**Задание 10: А теперь давайте посмотрим на распределение возрастов. Сколько возрастных отрезков имеют больше 1600 значений? (Одним \"отрезков\" является один столбец при стандартных настройках seaborn/matplotlib)\n",
        "P.S. Необязательное задание, хотя лучше сделать, если собираетесь сдавать до мягкого, я хоты бы посмотрю**"
      ],
      "metadata": {
        "id": "fFHyZAmoj_Q5"
      }
    },
    {
      "cell_type": "code",
      "source": [
        "# Write code here\n",
        "import matplotlib.pyplot as plt\n",
        "\n",
        "counts, bins, patches = plt.hist(df['age'], bins=10)\n",
        "plt.title('Распределение возраста')\n",
        "plt.xlabel('Возраст')\n",
        "plt.ylabel('Количество людей')\n",
        "plt.show()\n",
        "num_bins_over_1600 = np.sum(counts > 1600)\n",
        "print(f\"Количество возрастных отрезков с >1600 наблюдений: {num_bins_over_1600}\")"
      ],
      "metadata": {
        "id": "TGaQzgixj-sP",
        "colab": {
          "base_uri": "https://localhost:8080/",
          "height": 890
        },
        "outputId": "57ba0aca-b586-45b4-8306-36a93d3c9a96"
      },
      "execution_count": null,
      "outputs": [
        {
          "output_type": "display_data",
          "data": {
            "text/plain": [
              "<Figure size 1800x1000 with 1 Axes>"
            ],
            "image/png": "[encoded data removed]"
          },
          "metadata": {}
        },
        {
          "output_type": "stream",
          "name": "stdout",
          "text": [
            "Количество возрастных отрезков с >1600 наблюдений: 6\n"
          ]
        }
      ]
    },
    {
      "cell_type": "code",
      "source": [],
      "metadata": {
        "id": "6Ap2ubmKppPs"
      },
      "execution_count": null,
      "outputs": []
    }
  ]
}